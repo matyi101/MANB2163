{
 "cells": [
  {
   "cell_type": "markdown",
   "id": "65b8cdb2",
   "metadata": {},
   "source": [
    "## MANB2163 - Social Network Analytic\n",
    "## Mohd Nazri Nawi\n",
    "## Assignment No 1 - Part 2\n"
   ]
  },
  {
   "cell_type": "markdown",
   "id": "61f9ca03",
   "metadata": {},
   "source": [
    "##### Data is obtain from Stanford University SNAP Data Set. Source citation:\n",
    "##### S. Kumar, F. Spezzano, V.S. Subrahmanian, C. Faloutsos. Edge Weight Prediction in Weighted Signed Networks. IEEE International Conference on Data Mining (ICDM), 2016.\n",
    "##### S. Kumar, B. Hooi, D. Makhija, M. Kumar, V.S. Subrahmanian, C. Faloutsos. REV2: Fraudulent User Prediction in Rating Platforms. 11th ACM International Conference on Web Searchand Data Mining (WSDM), 2018.\n"
   ]
  },
  {
   "cell_type": "code",
   "execution_count": null,
   "id": "2e296be2",
   "metadata": {},
   "outputs": [],
   "source": [
    "install.packages(\"igraph\")\n",
    "install.packages(\"dplyr\")\n",
    "install.packages(\"ape\")\n",
    "install.packages(\"fields\")\n",
    "library(fields)\n",
    "library(ape)\n",
    "library(dplyr)\n",
    "library(igraph) "
   ]
  },
  {
   "cell_type": "markdown",
   "id": "e92aae32",
   "metadata": {},
   "source": [
    "# Plotting Network using igraph"
   ]
  },
  {
   "cell_type": "markdown",
   "id": "e1fd3228",
   "metadata": {},
   "source": [
    "### 1. Explain the data fields. Choose the specific data fields that you want to use to build the network. \n",
    " \n",
    "- Dataset: soc-sign-bitcoinotc.csv\n",
    "- Description: Bitcoin OTC web of trust network\n",
    "- Where:\n",
    "      Source - Node of ID source (rater)\n",
    "      Target - Node of ID target (ratee)\n",
    "      Rating - The source's rating for the target, ranging from -10 to +10 in steps of 1\n",
    "      Time   - The time of the rating, measured as seconds since Epoch.\n",
    "\n",
    "- This is a directed graph network\n",
    "- For this assignment, we only interested in the source(V1), target (V2) dataset.\n",
    "- Rating (V3) will be set at 10,which means that at rating 10 the buyer trust the seller as he trust himself. This is usually true for close friends and associates they know in person.\n"
   ]
  },
  {
   "cell_type": "markdown",
   "id": "0d19ea07",
   "metadata": {},
   "source": [
    "### 2. Read the network data from csv files and display the data in a table in R."
   ]
  },
  {
   "cell_type": "code",
   "execution_count": null,
   "id": "6046b9a1",
   "metadata": {},
   "outputs": [],
   "source": [
    "# We only interested with rating = 10, in order to limit no of nodes to cut down processing time.\n",
    "dat = read.csv('soc-sign-bitcoinotc.csv', header=FALSE)\n",
    "dat = filter (dat, V3 == 10)\n",
    "mat = as.matrix(dat)\n",
    "g <- graph.data.frame(dat)\n"
   ]
  },
  {
   "cell_type": "markdown",
   "id": "4cf88ee6",
   "metadata": {},
   "source": [
    " ### 3. Plot the network using igraph. "
   ]
  },
  {
   "cell_type": "code",
   "execution_count": null,
   "id": "93b52cff",
   "metadata": {},
   "outputs": [],
   "source": [
    "# Plot of network\n",
    "plot(g,layout=layout_nicely,vertex.label=NA, \n",
    "       vertex.color=\"gold\", vertex.size = 5, edge.arrow.size = 0.1, edge.width=2.0, edge.color = \"blue\")"
   ]
  },
  {
   "cell_type": "markdown",
   "id": "cfbf3efc",
   "metadata": {},
   "source": [
    " ### 4. Examine the data: \n",
    "- Find number of nodes \n",
    "- Find number of edges \n",
    "- Find the edgelist (“from”, “to”)"
   ]
  },
  {
   "cell_type": "code",
   "execution_count": null,
   "id": "9c227dd8",
   "metadata": {},
   "outputs": [],
   "source": [
    "# As graph node\n",
    "g"
   ]
  },
  {
   "cell_type": "code",
   "execution_count": null,
   "id": "c328b1d0",
   "metadata": {},
   "outputs": [],
   "source": [
    "# Vertices\n",
    "# From result below, vertices = 5,881\n",
    "V(g)"
   ]
  },
  {
   "cell_type": "code",
   "execution_count": null,
   "id": "c4c8e36e",
   "metadata": {},
   "outputs": [],
   "source": [
    "# Edge\n",
    "# From result below, Edge = 35,592\n",
    "E(g)"
   ]
  },
  {
   "cell_type": "code",
   "execution_count": null,
   "id": "a3c90655",
   "metadata": {},
   "outputs": [],
   "source": [
    "# Edgelist\n",
    "el <- as_edgelist(g, names=T)\n",
    "head(el)\n",
    "tail(el)\n",
    "graph_from_edgelist(el)"
   ]
  },
  {
   "cell_type": "markdown",
   "id": "c0e10399",
   "metadata": {},
   "source": [
    "### 5: Simplify the network by removing all the multiple edges and loops."
   ]
  },
  {
   "cell_type": "code",
   "execution_count": null,
   "id": "bf1d378d",
   "metadata": {},
   "outputs": [],
   "source": [
    "# Simplified Network\n",
    "g1 = simplify(g,remove.multiple = TRUE,remove.loops = TRUE,edge.attr.comb = igraph_opt(\"edge.attr.comb\"))"
   ]
  },
  {
   "cell_type": "code",
   "execution_count": null,
   "id": "77d15adc",
   "metadata": {},
   "outputs": [],
   "source": [
    "# Verification of simplified network\n",
    "is_simple(g1)"
   ]
  },
  {
   "cell_type": "markdown",
   "id": "185f6ed5",
   "metadata": {},
   "source": [
    "### 6. Extract the adjacency matrix of the network and display."
   ]
  },
  {
   "cell_type": "code",
   "execution_count": null,
   "id": "f910298a",
   "metadata": {},
   "outputs": [],
   "source": [
    "# Adjacency matrix of the netwrk and display\n",
    "g2 <- as_adjacency_matrix(g1)\n",
    "g3 <- graph.adjacency(g2)\n",
    "g3\n",
    "V(g3)\n",
    "E(g3)"
   ]
  },
  {
   "cell_type": "code",
   "execution_count": null,
   "id": "ec710023",
   "metadata": {},
   "outputs": [],
   "source": [
    "# Plot of simplified network, g3\n",
    "plot(g3,layout=layout_with_fr,vertex.label=NA, vertex.color=rgb(.25, .5, .3, alpha=.5), vertex.size = 5, \n",
    "     edge.arrow.size = 0.1, edge.width=2.0, edge.color = \"gray40\", edge.curved = 1.0)"
   ]
  },
  {
   "cell_type": "markdown",
   "id": "75620229",
   "metadata": {},
   "source": [
    "### 7. Replace the vertex labels (auto label) of each node with the node names stored in the data table."
   ]
  },
  {
   "cell_type": "code",
   "execution_count": null,
   "id": "a35e1aa0",
   "metadata": {},
   "outputs": [],
   "source": [
    "# Replace the vertex label with the node names stored in data table\n",
    "\n",
    "plot(g3,layout=layout_nicely,vertex.label=V(g3)$name, main = \"Network plot with node number label\", \n",
    "       vertex.color=\"gold\", vertex.size = 5, edge.arrow.size = 0.5, edge.width=2.0, edge.color = \"gray40\")"
   ]
  },
  {
   "cell_type": "markdown",
   "id": "f5baa2ec",
   "metadata": {},
   "source": [
    "### 8. Generate node color based on the type of nodes. Add legends to explain the meaning of colors."
   ]
  },
  {
   "cell_type": "code",
   "execution_count": null,
   "id": "df963ff0",
   "metadata": {},
   "outputs": [],
   "source": [
    "# Node color based on the type of node. In this case, we will choose Community detection based on label propagation:\n",
    "clu <- components(g3)\n",
    "\n",
    "#Sample function on vertices\n",
    "\n",
    "color_num = 150:1\n",
    "\n",
    "#create a color palette of the same size as the number of vertices.\n",
    "jet.colors <- colorRampPalette( rainbow( length( unique(color_num) ) ) )\n",
    "color_spectrum <- jet.colors( length( unique(color_num ) ) )\n",
    "\n",
    "# Map the pallete to the order of values on vertices\n",
    "ordered <- order(color_num)\n",
    "color <- vector(length = length(ordered),mode=\"double\")\n",
    "for ( i in 1:length(ordered) )\n",
    "{\n",
    "    color[ ordered[i] ] <- color_spectrum [ i ]\n",
    "}\n",
    "clu$membership = color\n",
    "\n",
    "plot(g3, vertex.color=color, vertex.size = 5, edge.arrow.size = 0.5, \n",
    "     edge.width=2.0, edge.color = \"gray40\",main = \"Network with color of component membership\", vertex.label = NA) \n",
    "image.plot(legend.only=T, zlim=range(color_num), col=color_spectrum )"
   ]
  },
  {
   "cell_type": "markdown",
   "id": "e00581cb",
   "metadata": {},
   "source": [
    "### 9. Set the node size based on the degree of the node."
   ]
  },
  {
   "cell_type": "code",
   "execution_count": null,
   "id": "e07ca2b8",
   "metadata": {},
   "outputs": [],
   "source": [
    "# Set the node size based on the degree of the node.\n",
    "\n",
    "deg <- degree(g3, mode=\"all\")\n",
    "plot(g3, layout=layout_nicely, vertex.size = deg, edge.arrow.size = .2, main = \"Network plot based on node degree\", \n",
    "     vertex.color = rgb(.25, .5, .3, alpha=.5), vertex.label=NA, , edge.width=2.0, edge.color = \"gray40\")"
   ]
  },
  {
   "cell_type": "markdown",
   "id": "199c3064",
   "metadata": {},
   "source": [
    "### 10. Use 5 different type of layouts in igraph to plot the network and display it. Explain the changes in the network structure and compare your network based on the different layout algorithm that you have used.\n",
    "\n",
    "These plots are based on Force-directed graph drawing algorithms i.e Kamada Kawai and Fruchterman Reingold etc. The purpose is to position the nodes of a graph in 2D or 3D space so that all the edges are in equal length and minimal crossing edges."
   ]
  },
  {
   "cell_type": "code",
   "execution_count": null,
   "id": "edfb7697",
   "metadata": {},
   "outputs": [],
   "source": [
    "# Fruchterman Reingold\n",
    "plot(g3, layout=layout_with_fr, vertex.size = deg, edge.arrow.size = .2, main = \"Fruchterman Reingold\", \n",
    "     vertex.color = rainbow(100), vertex.label=NA, , edge.width=2.0, edge.color = \"gray40\")"
   ]
  },
  {
   "cell_type": "code",
   "execution_count": null,
   "id": "d000aa2a",
   "metadata": {},
   "outputs": [],
   "source": [
    "# Kamada Kawai\n",
    "plot(g3, layout=layout_with_kk, vertex.size = deg, edge.arrow.size = .2, main = \"Kamada Kawai\", \n",
    "     vertex.color = rainbow(100), vertex.label=NA, , edge.width=2.0, edge.color = \"gray\")"
   ]
  },
  {
   "cell_type": "code",
   "execution_count": null,
   "id": "a2bff761",
   "metadata": {},
   "outputs": [],
   "source": [
    "# Star\n",
    "plot(g3, layout= layout_as_star, vertex.size = deg, edge.arrow.size = .2, main = \" Layout: Star\", \n",
    "     vertex.color = rainbow(100), vertex.label=NA, , edge.width=0.1, edge.color = \"gray\")"
   ]
  },
  {
   "cell_type": "code",
   "execution_count": null,
   "id": "1bde91ad",
   "metadata": {},
   "outputs": [],
   "source": [
    "# Nicely\n",
    "plot(g3, layout=layout_nicely, vertex.size = deg, edge.arrow.size = .2, main = \"Nicely\", \n",
    "     vertex.color = rainbow(100), vertex.label=NA, , edge.width=0.5, edge.color = \"gray\")"
   ]
  },
  {
   "cell_type": "code",
   "execution_count": null,
   "id": "6e6c172b",
   "metadata": {},
   "outputs": [],
   "source": [
    "# Random\n",
    "plot(g3, layout=layout_randomly, vertex.size = deg, edge.arrow.size = .2, main = \"Random\", \n",
    "     vertex.color = rainbow(100), vertex.label=NA, , edge.width=0.1, edge.color = \"gray\")"
   ]
  },
  {
   "cell_type": "markdown",
   "id": "b76336b9",
   "metadata": {},
   "source": [
    "### 11. Give a degree range for the nodes you want to explore and keep only the nodes that ties between the chosen range. Display the network. Display the evolution of network by changing the node degree range till you get a network with separated components."
   ]
  },
  {
   "cell_type": "code",
   "execution_count": null,
   "id": "eec56554",
   "metadata": {},
   "outputs": [],
   "source": [
    "deg = degree(g3)\n",
    "degSorted <-sort.int(deg,decreasing=T,index.return=FALSE)\n",
    "df = data.frame(degSorted)\n",
    "head(df)\n",
    "tail(df)"
   ]
  },
  {
   "cell_type": "code",
   "execution_count": null,
   "id": "acfa7498",
   "metadata": {},
   "outputs": [],
   "source": [
    "degree_freq <- data.frame(table(deg))\n",
    "head(degree_freq)\n",
    "tail(degree_freq)"
   ]
  },
  {
   "cell_type": "code",
   "execution_count": null,
   "id": "dd601a2b",
   "metadata": {},
   "outputs": [],
   "source": [
    "n1 <- delete.vertices(g3, V(g3)[ degree(g3) >3 ])\n",
    "plot(n1, layout=layout_with_kk, main = \"Network Evolution. Degrees: n = 1\", vertex.color=rainbow(degree(n1)*10), \n",
    "     vertex.size=degree(n1), edge.arrow.size= 0.3, edge.width=1, vertex.label = NA)"
   ]
  },
  {
   "cell_type": "code",
   "execution_count": null,
   "id": "84a1666b",
   "metadata": {},
   "outputs": [],
   "source": [
    "n5 <- delete.vertices(g3, V(g3)[ degree(g3) > 5 ])\n",
    "plot(n5, layout=layout_with_kk, main = \"Network Evolution. Degrees: n < 5\", vertex.color=rainbow(10), \n",
    "     vertex.size=degree(n5), edge.width=1.0, edge.arrow.size= 0.3, vertex.label = NA)"
   ]
  },
  {
   "cell_type": "code",
   "execution_count": null,
   "id": "fa018627",
   "metadata": {},
   "outputs": [],
   "source": [
    "n12 <- delete.vertices(g3, V(g3)[ degree(g3) > 12 ])\n",
    "n = n12\n",
    "plot(n, layout=layout_with_kk, main = \"Network Evolution. Degrees: n = 35\", vertex.color=rainbow(10), \n",
    "     vertex.size=degree(n), edge.width=0.3, edge.arrow.size= 0.2, vertex.label = NA)"
   ]
  },
  {
   "cell_type": "code",
   "execution_count": null,
   "id": "58ba3e4c",
   "metadata": {},
   "outputs": [],
   "source": [
    "n30 <- delete.vertices(g3, V(g3)[ degree(g3) > 30 ])\n",
    "n = n30\n",
    "plot(n, layout=layout_with_kk, main = \"Network Evolution. Degrees: n < 30\", vertex.color=rainbow(10), \n",
    "     vertex.size=degree(n), edge.arrow.size= 1, vertex.label = NA)"
   ]
  },
  {
   "cell_type": "markdown",
   "id": "a9f57810",
   "metadata": {},
   "source": [
    "# Network and node descriptions"
   ]
  },
  {
   "cell_type": "markdown",
   "id": "b485835f",
   "metadata": {},
   "source": [
    "### 1. Using the same network (simplified network), find the density of the network."
   ]
  },
  {
   "cell_type": "code",
   "execution_count": null,
   "id": "baac88f4",
   "metadata": {},
   "outputs": [],
   "source": [
    "n <- g3\n",
    "cat(\"Density of Network:\", edge_density(n, loops = FALSE))"
   ]
  },
  {
   "cell_type": "code",
   "execution_count": null,
   "id": "7f058c21",
   "metadata": {},
   "outputs": [],
   "source": [
    "#for an undirected network\n",
    "ecount(n)/(vcount(n12)*(vcount(n)-1))*2 "
   ]
  },
  {
   "cell_type": "markdown",
   "id": "605b5ca7",
   "metadata": {},
   "source": [
    "### 2. Find the number of triangles formed in the network."
   ]
  },
  {
   "cell_type": "code",
   "execution_count": null,
   "id": "13de5cdc",
   "metadata": {},
   "outputs": [],
   "source": [
    "tri=cliques(n,min=3,max=3)\n",
    "cat(\"No of Triangles:\", nrow(matrix(tri)))"
   ]
  },
  {
   "cell_type": "markdown",
   "id": "37376da3",
   "metadata": {},
   "source": [
    "### 3. What is the diameter of the network?"
   ]
  },
  {
   "cell_type": "code",
   "execution_count": null,
   "id": "507de4a9",
   "metadata": {},
   "outputs": [],
   "source": [
    "cat(\"Diameter of Network:\", diameter(n))"
   ]
  },
  {
   "cell_type": "markdown",
   "id": "a9b973aa",
   "metadata": {},
   "source": [
    "### 4. The nodes color that pass through the longest shortest path."
   ]
  },
  {
   "cell_type": "code",
   "execution_count": null,
   "id": "7bbaf49c",
   "metadata": {},
   "outputs": [],
   "source": [
    "diam <- get_diameter(g3, directed=T)\n",
    "diam"
   ]
  },
  {
   "cell_type": "code",
   "execution_count": null,
   "id": "45349804",
   "metadata": {},
   "outputs": [],
   "source": [
    "n=g3\n",
    "vcol <- rep(\"light blue\", vcount(n))\n",
    "vcol[diam] <- \"gold\"\n",
    "ecol <- rep(\"gray80\", ecount(n))\n",
    "ecol[E(n, path=diam)] <- \"red\" \n",
    "\n",
    "# E(net, path=diam) finds edges along a path, here 'diam'\n",
    "\n",
    "plot(n, vertex.size=6, vertex.color=vcol, \n",
    "     edge.width=5, edge.color=ecol, edge.arrow.mode=0.2, vertex.label=NA, )"
   ]
  },
  {
   "cell_type": "markdown",
   "id": "bf92442f",
   "metadata": {},
   "source": [
    "### 5. List the degree of nodes and display it in a table. Create a histogram of the node degree."
   ]
  },
  {
   "cell_type": "code",
   "execution_count": null,
   "id": "c0eb4597",
   "metadata": {},
   "outputs": [],
   "source": [
    "df = data.frame(deg)\n",
    "head(df)\n",
    "tail(df)"
   ]
  },
  {
   "cell_type": "code",
   "execution_count": null,
   "id": "e340f54f",
   "metadata": {},
   "outputs": [],
   "source": [
    "hist(deg)"
   ]
  },
  {
   "cell_type": "code",
   "execution_count": null,
   "id": "2361a63d",
   "metadata": {},
   "outputs": [],
   "source": [
    "deg.dist <- degree_distribution(g3, cumulative=T, mode=\"all\")\n",
    "plot( x=0:max(deg), y=1-deg.dist, pch=19, cex=1.2, col=\"orange\", \n",
    "     xlab=\"Degree\", ylab=\"Cumulative Frequency\")"
   ]
  },
  {
   "cell_type": "markdown",
   "id": "2878ee78",
   "metadata": {},
   "source": [
    "# Centrality Values"
   ]
  },
  {
   "cell_type": "markdown",
   "id": "9a1deeaf",
   "metadata": {},
   "source": [
    "### 1. Rank the nodes based on degree, betweenness, closeness and eigenvector centrality value and display it in a table."
   ]
  },
  {
   "cell_type": "code",
   "execution_count": null,
   "id": "27e64602",
   "metadata": {},
   "outputs": [],
   "source": [
    "# Rank by Degree\n",
    "deg <- degree(g3)\n",
    "degSorted <-sort.int(deg,decreasing=T,index.return=FALSE)\n",
    "df <- data.frame(degSorted)\n",
    "head(df)\n",
    "tail(df)"
   ]
  },
  {
   "cell_type": "code",
   "execution_count": null,
   "id": "9b20882d",
   "metadata": {},
   "outputs": [],
   "source": [
    "# Rank by betweeness\n",
    "btw <- betweenness(g3,  v = V(g3),  directed = TRUE,  weights = NULL,  nobigint = TRUE,  normalized = FALSE)\n",
    "btw <-data.frame(sort.int(btw,decreasing=T,index.return=FALSE))\n",
    "head(btw)\n",
    "tail(btw)"
   ]
  },
  {
   "cell_type": "code",
   "execution_count": null,
   "id": "8d31dc12",
   "metadata": {},
   "outputs": [],
   "source": [
    "# Rank by closeness\n",
    "close <- closeness(g3,  vids = V(g3),  mode = c(\"all\"),  weights = NULL,  normalized = FALSE)\n",
    "clo <-data.frame(sort.int(close,decreasing=T,index.return=FALSE))\n",
    "head(clo)\n",
    "tail(clo)"
   ]
  },
  {
   "cell_type": "code",
   "execution_count": null,
   "id": "d19ad8b7",
   "metadata": {},
   "outputs": [],
   "source": [
    "#Rank by Eigen Centrality\n",
    "ec <-eigen_centrality(g3,directed = TRUE,scale = TRUE,weights = NULL,options = arpack_defaults)\n",
    "ec <-data.frame(sort.int(ec$vector,decreasing=T,index.return=FALSE))\n",
    "head(ec)\n",
    "tail(ec)"
   ]
  },
  {
   "cell_type": "markdown",
   "id": "64cb19cb",
   "metadata": {},
   "source": [
    "### 2. Find the nodes with highest degree, betweenness centrality, closeness and eigenvector centrality values.\n",
    "\n",
    "From the calculated result above:\n",
    "- Highest degree: **35** at **Node 25**\n",
    "- Highest betweeness centrality: **654.83** at **Node 905**\n",
    "- Highest closeness: **3.956260e-06** at **Node 25**\n",
    "- Highest eigenven vector centrality: **1.000** at **Node 2962**"
   ]
  },
  {
   "cell_type": "markdown",
   "id": "227f8004",
   "metadata": {},
   "source": [
    "### 3. Find the hubs in the network and display each of it in a different color."
   ]
  },
  {
   "cell_type": "code",
   "execution_count": null,
   "id": "3a3e5511",
   "metadata": {},
   "outputs": [],
   "source": [
    "hs <- hub_score(g3, weights=NA)$vector\n",
    "plot(g3, vertex.size=hs*10, main=\"Hubs\", edge.arrow.size= 0.3, vertex.label=NA, edge.width=2)"
   ]
  },
  {
   "cell_type": "markdown",
   "id": "203beab7",
   "metadata": {},
   "source": [
    "# Distance and Path"
   ]
  },
  {
   "cell_type": "markdown",
   "id": "4b62cc07",
   "metadata": {},
   "source": [
    "### 1. Calculate the average path length for both (undirected and directed network)."
   ]
  },
  {
   "cell_type": "code",
   "execution_count": null,
   "id": "84fb078e",
   "metadata": {},
   "outputs": [],
   "source": [
    "path1 <- mean_distance(g3, directed = TRUE, unconnected = TRUE)\n",
    "path2 <- mean_distance(g3, directed = FALSE, unconnected = TRUE)\n",
    "cat(\" Average Directed Path:\", path1)\n",
    "cat(\" Average Undrected Path:\", path2)"
   ]
  },
  {
   "cell_type": "markdown",
   "id": "d6c3e189",
   "metadata": {},
   "source": [
    "### 2. Using the undirected network, find all the shortest paths from one node to another and the length of all shortest paths in the graph."
   ]
  },
  {
   "cell_type": "code",
   "execution_count": null,
   "id": "7f2949b9",
   "metadata": {},
   "outputs": [],
   "source": [
    "asp <-all_shortest_paths(\n",
    "  g3,\n",
    "  from = \"25\",\n",
    "  to = V(g3),\n",
    "  mode = c(\"all\"),\n",
    "  weights = NULL\n",
    ")\n",
    "\n",
    "summary(asp)"
   ]
  },
  {
   "cell_type": "markdown",
   "id": "b9c89896",
   "metadata": {},
   "source": [
    "### 3. Find the shortest path from the node with highest betweenness centrality (broker) to all other nodes. Color the path that has the longest shortest path from the broker to its destination node. Repeat the same for nodes with highest degree and eigenvector centrality values."
   ]
  },
  {
   "cell_type": "code",
   "execution_count": null,
   "id": "c52de5e6",
   "metadata": {},
   "outputs": [],
   "source": [
    "plist <- do.call(c,lapply(V(g3), function(v) get.shortest.paths(g,v,V(g), output='epath')$epath))\n",
    "psize <- data.frame(i = 1:length(plist), plength = sapply(plist,length))\n",
    "top10 <- head(psize[order(-psize$plength),],10)\n",
    "elist <- unlist(plist[top10$i])\n",
    "finalg <- subgraph.edges(g, elist)"
   ]
  },
  {
   "cell_type": "code",
   "execution_count": null,
   "id": "e71c7be3",
   "metadata": {},
   "outputs": [],
   "source": [
    "longest.shortest.paths <- function(graph){\n",
    "    # Return edgelist of all node-pairs between which the shortest path\n",
    "    # in a graph are the longest shortest path observed in that graph.\n",
    "\n",
    "    # Get all the shortest paths of a graph\n",
    "    shortest.paths = shortest.paths(graph)\n",
    "\n",
    "    # Make sure that there are no Inf-values caused by isolates in the graph\n",
    "    shortest.paths[shortest.paths == Inf] <- 0\n",
    "\n",
    "    # What nodes in the distance matrix are linked by longest shortest paths?\n",
    "    el <- which(shortest.paths==max(shortest.paths), arr.ind=TRUE)\n",
    "    colnames(el) <- c(\"i\",\"j\")\n",
    "    (el)\n",
    "}\n",
    "\n",
    "longest.shortest.paths(g3)"
   ]
  },
  {
   "cell_type": "markdown",
   "id": "127fab77",
   "metadata": {},
   "source": [
    "### 4. Identify the immediate neighbours of the node with highest degree centrality value. Set colors to plot the neighbours. Display the network and explain the neighbours with this important node."
   ]
  },
  {
   "cell_type": "code",
   "execution_count": null,
   "id": "a94b5b3a",
   "metadata": {},
   "outputs": [],
   "source": [
    "neigh.nodes <- neighbors(g3, V(g3), mode=\"all\")\n",
    "\n",
    "# Set colors to plot the neighbors:\n",
    "\n",
    "vcol[neigh.nodes] <- \"red\"\n",
    "plot(g3, vertex.size = 5, vertex.label=NA, vertex.color=vcol, edge.arrow.size= 0.3,edge.color=\"gray40\", edge.width=2)"
   ]
  },
  {
   "cell_type": "markdown",
   "id": "554b2e32",
   "metadata": {},
   "source": [
    "### 5. Identify the immediate neighbours of the node with highest eigenvector centrality value. Set colors to plot the neighbours. Display the network and explain the neighbours with this important node."
   ]
  },
  {
   "cell_type": "code",
   "execution_count": null,
   "id": "5f5fbba7",
   "metadata": {},
   "outputs": [],
   "source": [
    "V(g3)$ec <- eigen_centrality(g, directed=T, weights=NA)$vector\n",
    "normalize <- function(x){(x-min(x))/(max(x)-min(x))}\n",
    "(V(g3)$ec_index <- round(normalize(V(g3)$ec) * 9) + 1)\n",
    "V(g3)$color <- colorRampPalette(c(\"turquoise\", \"yellow\",\"red\"))(10)[V(g3)$ec_index]\n",
    "table(V(g3)$color)\n",
    "plot(g3, vertex.label=NA, vertex.size=5)"
   ]
  },
  {
   "cell_type": "markdown",
   "id": "412c1a2c",
   "metadata": {},
   "source": [
    "# Subgroups and Communities"
   ]
  },
  {
   "cell_type": "markdown",
   "id": "a045ce60",
   "metadata": {},
   "source": [
    "### 1. Find cliques in the network and display it. How many cliques that you can find in the network?"
   ]
  },
  {
   "cell_type": "code",
   "execution_count": null,
   "id": "e43a63b3",
   "metadata": {},
   "outputs": [],
   "source": [
    "g3.sym <- as.undirected(g3, mode= \"collapse\", edge.attr.comb=list(weight=\"sum\", \"ignore\"))\n",
    "c = cliques(g3.sym) # list of cliques       \n",
    "s = sapply(cliques(g3.sym), length) # clique sizes\n",
    "l = largest_cliques(g3.sym) # cliques with max number of nodes\n",
    "vcol <- rep(\"gray\", vcount(g3.sym))\n",
    "vcol[unlist(largest_cliques(g3.sym))] <- \"red\"\n"
   ]
  },
  {
   "cell_type": "code",
   "execution_count": null,
   "id": "2bce1fd2",
   "metadata": {},
   "outputs": [],
   "source": [
    "plot(as.undirected(g3.sym), vertex.size = 5, vertex.label=NA, vertex.color=vcol, edge.color=\"gray20\", edge.width=2)"
   ]
  },
  {
   "cell_type": "markdown",
   "id": "0ed737e0",
   "metadata": {},
   "source": [
    "### 2. Find a community detection algorithm in igraph. Explain how it works. Apply the community detection on your network and display the network. Each community must be in its own color.\n",
    "- Find the number of communities that occur.\n",
    "- Find its membership\n",
    "- Find how modular the graph partitioning is. (High modularity for a partitioning reflects dense connections within communities and sparse connections across communities)"
   ]
  },
  {
   "cell_type": "code",
   "execution_count": null,
   "id": "15f8f040",
   "metadata": {},
   "outputs": [],
   "source": [
    "eb <- cluster_edge_betweenness(as.undirected(g3))\n",
    "dendPlot(eb, mode=\"hclust\", main = \"denplot\")"
   ]
  },
  {
   "cell_type": "code",
   "execution_count": null,
   "id": "01a50e48",
   "metadata": {},
   "outputs": [],
   "source": [
    "plot(eb, as.undirected(g3), vertex.label=NA, vertex.size=5,edge.arrow.mode=0.2, edge.color=\"blue\", edge.width=3)"
   ]
  },
  {
   "cell_type": "markdown",
   "id": "549fec91",
   "metadata": {},
   "source": [
    "### b. Membership"
   ]
  },
  {
   "cell_type": "code",
   "execution_count": null,
   "id": "9ab02b0a",
   "metadata": {},
   "outputs": [],
   "source": [
    "comm <- membership(eb)\n",
    "summary(comm)\n",
    "modularity(eb)"
   ]
  },
  {
   "cell_type": "markdown",
   "id": "9f006992",
   "metadata": {},
   "source": [
    "### c. Modular the graph partitioning"
   ]
  },
  {
   "cell_type": "code",
   "execution_count": null,
   "id": "5a9f6c8a",
   "metadata": {},
   "outputs": [],
   "source": [
    "modularity(eb)"
   ]
  },
  {
   "cell_type": "markdown",
   "id": "05bf17d3",
   "metadata": {},
   "source": [
    "### Community detection algorithm in igraph"
   ]
  },
  {
   "cell_type": "code",
   "execution_count": null,
   "id": "766248fc",
   "metadata": {},
   "outputs": [],
   "source": [
    "clp <- cluster_label_prop(g3)\n",
    "plot(clp, as.undirected(g3), vertex.label=NA, vertex.size=5,edge.arrow.mode=0.2, edge.color=\"blue\", edge.width=3)"
   ]
  },
  {
   "cell_type": "code",
   "execution_count": null,
   "id": "9cd23cfc",
   "metadata": {},
   "outputs": [],
   "source": [
    "cfg <- cluster_fast_greedy(as.undirected(g3))\n",
    "plot(cfg, as.undirected(g3), vertex.label=NA, vertex.size=5,edge.arrow.mode=0.2, edge.color=\"blue\", edge.width=3)"
   ]
  },
  {
   "cell_type": "code",
   "execution_count": null,
   "id": "3b22659f",
   "metadata": {},
   "outputs": [],
   "source": [
    "V(g3)$community <- cfg$membership\n",
    "colrs <- adjustcolor( c(\"gray50\", \"tomato\", \"gold\", \"yellowgreen\"), alpha=.8)\n",
    "plot(g3, vertex.color=colrs[V(g3)$community], vertex.label=NA, vertex.size=5,edge.arrow.mode=0.2, edge.color=\"blue\", edge.width=3)"
   ]
  },
  {
   "cell_type": "code",
   "execution_count": null,
   "id": "2cfb1ad3",
   "metadata": {},
   "outputs": [],
   "source": []
  }
 ],
 "metadata": {
  "kernelspec": {
   "display_name": "R",
   "language": "R",
   "name": "ir"
  }
 },
 "nbformat": 4,
 "nbformat_minor": 5
}
